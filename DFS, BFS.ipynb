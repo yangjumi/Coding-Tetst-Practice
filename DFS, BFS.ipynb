{
 "cells": [
  {
   "cell_type": "markdown",
   "metadata": {},
   "source": [
    "# < DFS 알고리즘 연습 >"
   ]
  },
  {
   "cell_type": "code",
   "execution_count": 3,
   "metadata": {},
   "outputs": [
    {
     "name": "stdout",
     "output_type": "stream",
     "text": [
      "1 2 7 6 8 3 4 5 "
     ]
    }
   ],
   "source": [
    "# DFS 예제\n",
    "def dfs(graph, v, visited) :\n",
    "    visited[v] = True\n",
    "    print(v, end = ' ')\n",
    "    for i in graph[v]:\n",
    "        if not visited[i]:\n",
    "            dfs(graph,i,visited)\n",
    "            \n",
    "graph = [\n",
    "    [],\n",
    "    [2,3,8],\n",
    "    [1,7],\n",
    "    [1,4,5],\n",
    "    [3,5],\n",
    "    [3,4],\n",
    "    [7],\n",
    "    [2,6,8],\n",
    "    [1,7]\n",
    "]\n",
    "\n",
    "visited = [False]*9\n",
    "dfs(graph,1,visited)"
   ]
  },
  {
   "cell_type": "code",
   "execution_count": null,
   "metadata": {},
   "outputs": [],
   "source": [
    "# 1. 스택을 하나 만든다. 빈 스택에 시작할 노드를 넣는다.\n",
    "# 2. 스택에서 노드를 하나 꺼내고(pop), 출력한다. 그리고 꺼낸 노드의 자식 노드들을 다 넣는다.\n",
    "#    (❗이때 한 번 스택에 담은 노드는 다시 넣지 않음)\n",
    "# 3. 반복한다.\n",
    "\n",
    "# 이때 기억해야 할 점은 스택이기 때문에 마지막으로 넣은 노드부터 탐색된다."
   ]
  },
  {
   "cell_type": "code",
   "execution_count": 11,
   "metadata": {},
   "outputs": [
    {
     "name": "stdout",
     "output_type": "stream",
     "text": [
      "recursive_dfs:  [1, 2, 3, 4, 5, 6, 7, 8, 9, 10]\n",
      "iterative_dfs:  [1, 9, 10, 5, 8, 6, 7, 2, 3, 4]\n"
     ]
    }
   ],
   "source": [
    "graph = {\n",
    "    1: [2,5,9],\n",
    "    2: [3],\n",
    "    3: [4],\n",
    "    4: [],\n",
    "    5: [6,8],\n",
    "    6: [7],\n",
    "    7: [],\n",
    "    8: [],\n",
    "    9: [10],\n",
    "    10: []\n",
    "}\n",
    "\n",
    "def recursive_dfs(v, visited = []):\n",
    "    visited.append(v) # 시작 정점 방문\n",
    "    for w in graph[v]:\n",
    "        if not w in visited: # 방문 하지 않았으면\n",
    "            visited = recursive_dfs(w, visited)\n",
    "    return visited\n",
    "\n",
    "def iterative_dfs(start_v):\n",
    "    visited = []\n",
    "    stack = [start_v]\n",
    "    while stack:\n",
    "        v = stack.pop()\n",
    "        if v not in visited:\n",
    "            visited.append(v)\n",
    "            for w in graph[v]:\n",
    "                stack.append(w)\n",
    "    return visited\n",
    "\n",
    "print(\"recursive_dfs: \", recursive_dfs(1))\n",
    "print(\"iterative_dfs: \", iterative_dfs(1))"
   ]
  },
  {
   "cell_type": "markdown",
   "metadata": {},
   "source": [
    "# < BFS 알고리즘 연습 >"
   ]
  },
  {
   "cell_type": "code",
   "execution_count": 4,
   "metadata": {},
   "outputs": [
    {
     "name": "stdout",
     "output_type": "stream",
     "text": [
      "1 2 3 8 7 4 5 6 "
     ]
    }
   ],
   "source": [
    "# BFS 예제\n",
    "from collections import deque\n",
    "\n",
    "def bfs(graph, start, visited):\n",
    "    # 큐 구현을 위해 deque 라이브러리 사용\n",
    "    queue = deque([start])\n",
    "    visited[start] = True\n",
    "    \n",
    "    while queue :\n",
    "        v=queue.popleft()\n",
    "        print(v, end=' ')\n",
    "        \n",
    "        for i in graph[v]:\n",
    "            if not visited[i]:\n",
    "                queue.append(i)\n",
    "                visited[i] = True\n",
    "                \n",
    "graph = [\n",
    "    [],\n",
    "    [2,3,8],\n",
    "    [1,7],\n",
    "    [1,4,5],\n",
    "    [3,5],\n",
    "    [3,4],\n",
    "    [7],\n",
    "    [2,6,8],\n",
    "    [1,7]\n",
    "]\n",
    "\n",
    "visited = [False]*9\n",
    "bfs(graph,1,visited)"
   ]
  },
  {
   "cell_type": "code",
   "execution_count": null,
   "metadata": {},
   "outputs": [],
   "source": [
    "# 1. 빈 큐를 만들고 시작 노드를 넣는다.\n",
    "# 2. 큐에서 노드를 꺼내고(pop), 출력한다. 꺼낸 노드의 자식들을 큐에 추가한다\n",
    "#    (❗이때 한 번 큐에 담은 노드는 다시 넣지 않음)\n",
    "# 3. 반복한다."
   ]
  },
  {
   "cell_type": "code",
   "execution_count": 10,
   "metadata": {},
   "outputs": [
    {
     "name": "stdout",
     "output_type": "stream",
     "text": [
      "bfs:  [1, 2, 3, 4, 5, 6, 7, 8, 9, 10]\n"
     ]
    }
   ],
   "source": [
    "graph = {\n",
    "    1: [2,3,4],\n",
    "    2: [5],\n",
    "    3: [6,7],\n",
    "    4: [8],\n",
    "    5: [9],\n",
    "    6: [10],\n",
    "    7: [],\n",
    "    8: [],\n",
    "    9: [],\n",
    "    10: []\n",
    "}\n",
    "\n",
    "from collections import deque\n",
    "\n",
    "def bfs(start_v):\n",
    "    visited = [start_v]\n",
    "    deq = deque()\n",
    "    deq.append(start_v)\n",
    "    while deq:\n",
    "        v = deq.popleft()\n",
    "        for w in graph[v]:\n",
    "            if w not in visited:\n",
    "                visited.append(w)\n",
    "                deq.append(w)\n",
    "    return visited\n",
    "\n",
    "print(\"bfs: \", bfs(1))"
   ]
  },
  {
   "cell_type": "markdown",
   "metadata": {},
   "source": [
    "## 1. < DFS > 음료수 얼려 먹기"
   ]
  },
  {
   "cell_type": "code",
   "execution_count": 6,
   "metadata": {},
   "outputs": [
    {
     "name": "stdout",
     "output_type": "stream",
     "text": [
      "15 14\n",
      "00000111100000\n",
      "11111101111110\n",
      "11011101100000\n",
      "11011111111111\n",
      "11011111111100\n",
      "11000000011111\n",
      "01111111111111\n",
      "00000000011111\n",
      "01111111111000\n",
      "00011111111000\n",
      "00000001111000\n",
      "11111111110011\n",
      "11100011111111\n",
      "11100011111111\n",
      "11000011111111\n",
      "8\n"
     ]
    }
   ],
   "source": [
    "n, m = map(int, input().split())\n",
    "\n",
    "# 2차원 리스트의 맵 정보 입력받기\n",
    "graph = []\n",
    "for i in range(n) :\n",
    "    graph.append(list(map(int, input())))\n",
    "    \n",
    "# DFS로 특정한 노드를 방문한 뒤에 연결된 모든 노드들도 방문\n",
    "def dfs(x, y) :\n",
    "    # 범위를 벗어나는 경우\n",
    "    if x <= -1 or x >= n or y <= -1 or y >= m:\n",
    "        return False\n",
    "    \n",
    "    \n",
    "    # 현재 노드를 아직 방문하지 않았다면\n",
    "    if graph[x][y] == 0:\n",
    "        graph[x][y] = 1\n",
    "        \n",
    "        # 상,하,좌,우의 위치도 모두 재귀적으로 호출\n",
    "        dfs(x-1, y)\n",
    "        dfs(x, y-1)\n",
    "        dfs(x+1, y)\n",
    "        dfs(x, y+1)\n",
    "        return True\n",
    "    return False\n",
    "    \n",
    "result = 0\n",
    "for i in range(n):\n",
    "    for j in range(m):\n",
    "        if dfs(i,j) == True :\n",
    "            result = result +1\n",
    "            \n",
    "print(result)"
   ]
  },
  {
   "cell_type": "markdown",
   "metadata": {},
   "source": [
    "## 2. < BFS > 미로 탈출"
   ]
  },
  {
   "cell_type": "code",
   "execution_count": 8,
   "metadata": {},
   "outputs": [
    {
     "name": "stdout",
     "output_type": "stream",
     "text": [
      "5 6\n",
      "101010\n",
      "111111\n",
      "000001\n",
      "111111\n",
      "111111\n",
      "10\n"
     ]
    }
   ],
   "source": [
    "from collections import deque\n",
    "\n",
    "n,m = map(int, input().split())\n",
    "\n",
    "graph = []\n",
    "for i in range(n):\n",
    "    graph.append(list(map(int, input())))\n",
    "    \n",
    "# 이동할 네 방향 정의(상, 하, 좌, 우)\n",
    "dx = [-1,1,0,0]\n",
    "dy = [0,0,-1,1]\n",
    "\n",
    "# BFS 소스코드 구현\n",
    "def bfs(x, y):\n",
    "    queue = deque()\n",
    "    queue.append((x,y))\n",
    "    \n",
    "    while queue:\n",
    "        x,y = queue.popleft()\n",
    "        for i in range(4):\n",
    "            nx = x+dx[i]\n",
    "            ny=y+dy[i]\n",
    "            \n",
    "            # 미로 찾기 공간을 벗어난 경우 무시\n",
    "            if nx < 0 or ny <0 or nx >= n or ny >= m:\n",
    "                continue\n",
    "            \n",
    "            # 벽인 경우 무시\n",
    "            if graph[nx][ny] == 0 :\n",
    "                continue\n",
    "            \n",
    "            # 해당 노드를 처음 방문하는 경우에만 최단 거리 기록\n",
    "            if graph[nx][ny] == 1 :\n",
    "                graph[nx][ny] = graph[x][y] +1\n",
    "                queue.append((nx,ny))\n",
    "    return graph[n-1][m-1]\n",
    "    \n",
    "print(bfs(0,0))"
   ]
  }
 ],
 "metadata": {
  "kernelspec": {
   "display_name": "Python 3",
   "language": "python",
   "name": "python3"
  },
  "language_info": {
   "codemirror_mode": {
    "name": "ipython",
    "version": 3
   },
   "file_extension": ".py",
   "mimetype": "text/x-python",
   "name": "python",
   "nbconvert_exporter": "python",
   "pygments_lexer": "ipython3",
   "version": "3.8.3"
  }
 },
 "nbformat": 4,
 "nbformat_minor": 4
}
