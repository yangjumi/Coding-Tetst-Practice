{
 "cells": [
  {
   "cell_type": "markdown",
   "metadata": {},
   "source": [
    "# <그리디 알고리즘 연습>"
   ]
  },
  {
   "cell_type": "markdown",
   "metadata": {},
   "source": [
    "## 1. 거스름돈 문제"
   ]
  },
  {
   "cell_type": "code",
   "execution_count": 1,
   "metadata": {},
   "outputs": [
    {
     "name": "stdout",
     "output_type": "stream",
     "text": [
      "6\n"
     ]
    }
   ],
   "source": [
    "n=1260\n",
    "count=0\n",
    "\n",
    "# 큰 단위의 화페부터 차례대로 확인\n",
    "coin_types = [500,100,50,10]\n",
    "\n",
    "for coin in coin_types :\n",
    "    count = count + n//coin\n",
    "    n = n%coin\n",
    "\n",
    "print(count)"
   ]
  },
  {
   "cell_type": "markdown",
   "metadata": {},
   "source": [
    "## 2. 큰 수의 법칙"
   ]
  },
  {
   "cell_type": "code",
   "execution_count": 4,
   "metadata": {},
   "outputs": [
    {
     "name": "stdout",
     "output_type": "stream",
     "text": [
      "5 8 3\n",
      "2 4 5 4 6\n",
      "46\n"
     ]
    }
   ],
   "source": [
    "# 가장 큰수를 M번 더하고 그다음 큰수를 N번 더하는 구조\n",
    "n,m,k = map(int, input().split())\n",
    "\n",
    "data = list(map(int, input().split()))\n",
    "\n",
    "data.sort()\n",
    "first = data[n-1]\n",
    "second = data[n-2]\n",
    "\n",
    "result = 0\n",
    "\n",
    "while True :\n",
    "    # 가장 큰 수를 k번 더하기\n",
    "    for i in range(k):\n",
    "        if m == 0:\n",
    "            break\n",
    "        result = result + first\n",
    "        m = m-1\n",
    "    if m == 0 :\n",
    "        break\n",
    "    result = result + second\n",
    "    m = m-1\n",
    "    \n",
    "print(result)"
   ]
  },
  {
   "cell_type": "markdown",
   "metadata": {},
   "source": [
    "## 3. 숫자 카드 게임"
   ]
  },
  {
   "cell_type": "code",
   "execution_count": 5,
   "metadata": {},
   "outputs": [
    {
     "name": "stdout",
     "output_type": "stream",
     "text": [
      "3 3\n",
      "3 1 2\n",
      "4 1 4\n",
      "2 2 2\n",
      "2\n"
     ]
    }
   ],
   "source": [
    "n,m = map(int, input().split())\n",
    "\n",
    "result = 0\n",
    "\n",
    "for i in range(n):\n",
    "    data = list(map(int, input().split()))\n",
    "    min_value = min(data)\n",
    "    result = max(min_value, result)\n",
    "\n",
    "print(result)"
   ]
  },
  {
   "cell_type": "markdown",
   "metadata": {},
   "source": [
    "## 4. 1이 될 때까지"
   ]
  },
  {
   "cell_type": "code",
   "execution_count": 15,
   "metadata": {},
   "outputs": [
    {
     "name": "stdout",
     "output_type": "stream",
     "text": [
      "25 3\n",
      "6\n"
     ]
    }
   ],
   "source": [
    "n,m = map(int, input().split())\n",
    "\n",
    "result = 0\n",
    "\n",
    "while n >= k :\n",
    "    while n%k != 0 :\n",
    "        n = n-1\n",
    "        result = result +1\n",
    "    n = n//k\n",
    "    result = result +1\n",
    "\n",
    "while n>1 :\n",
    "    n = n-1\n",
    "    result = result +1\n",
    "    \n",
    "print(result)"
   ]
  }
 ],
 "metadata": {
  "kernelspec": {
   "display_name": "Python 3",
   "language": "python",
   "name": "python3"
  },
  "language_info": {
   "codemirror_mode": {
    "name": "ipython",
    "version": 3
   },
   "file_extension": ".py",
   "mimetype": "text/x-python",
   "name": "python",
   "nbconvert_exporter": "python",
   "pygments_lexer": "ipython3",
   "version": "3.8.3"
  }
 },
 "nbformat": 4,
 "nbformat_minor": 4
}
